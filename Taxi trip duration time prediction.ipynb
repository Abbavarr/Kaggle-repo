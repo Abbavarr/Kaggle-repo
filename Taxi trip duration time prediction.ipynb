{
 "cells": [
  {
   "cell_type": "markdown",
   "metadata": {
    "papermill": {
     "duration": 0.020167,
     "end_time": "2021-02-14T14:38:50.277186",
     "exception": false,
     "start_time": "2021-02-14T14:38:50.257019",
     "status": "completed"
    },
    "tags": []
   },
   "source": [
    "# Setup"
   ]
  },
  {
   "cell_type": "code",
   "execution_count": 1,
   "metadata": {
    "_cell_guid": "b1076dfc-b9ad-4769-8c92-a6c4dae69d19",
    "_uuid": "8f2839f25d086af736a60e9eeb907d3b93b6e0e5",
    "execution": {
     "iopub.execute_input": "2021-02-14T14:38:50.325667Z",
     "iopub.status.busy": "2021-02-14T14:38:50.324947Z",
     "iopub.status.idle": "2021-02-14T14:39:06.851749Z",
     "shell.execute_reply": "2021-02-14T14:39:06.852421Z"
    },
    "papermill": {
     "duration": 16.555687,
     "end_time": "2021-02-14T14:39:06.852613",
     "exception": false,
     "start_time": "2021-02-14T14:38:50.296926",
     "status": "completed"
    },
    "tags": []
   },
   "outputs": [
    {
     "name": "stdout",
     "output_type": "stream",
     "text": [
      "SETUP COMPLETE\n"
     ]
    }
   ],
   "source": [
    "import numpy as np\n",
    "import pandas as pd\n",
    "from scipy.stats import boxcox\n",
    "import matplotlib.pyplot as plt\n",
    "\n",
    "import seaborn as sns\n",
    "train = pd.read_csv('../input/nyc-taxi-trip-duration/train.zip',parse_dates=['pickup_datetime','dropoff_datetime'])\n",
    "test = pd.read_csv('../input/nyc-taxi-trip-duration/test.zip',parse_dates=['pickup_datetime'])\n",
    "\n",
    "train['trip_duration'],_ = boxcox(train['trip_duration'])\n",
    "train = train[train['trip_duration'] !=0].reset_index(drop=True)\n",
    "\n",
    "y = train.trip_duration\n",
    "\n",
    "train = train.drop(['trip_duration','vendor_id','store_and_fwd_flag'],axis=1)\n",
    "test = test.drop(['vendor_id','store_and_fwd_flag'],axis=1)\n",
    "\n",
    "print ('SETUP COMPLETE')"
   ]
  },
  {
   "cell_type": "code",
   "execution_count": 2,
   "metadata": {
    "execution": {
     "iopub.execute_input": "2021-02-14T14:39:06.904351Z",
     "iopub.status.busy": "2021-02-14T14:39:06.903677Z",
     "iopub.status.idle": "2021-02-14T14:39:06.915295Z",
     "shell.execute_reply": "2021-02-14T14:39:06.914618Z"
    },
    "papermill": {
     "duration": 0.042803,
     "end_time": "2021-02-14T14:39:06.915407",
     "exception": false,
     "start_time": "2021-02-14T14:39:06.872604",
     "status": "completed"
    },
    "tags": []
   },
   "outputs": [
    {
     "data": {
      "text/html": [
       "<div>\n",
       "<style scoped>\n",
       "    .dataframe tbody tr th:only-of-type {\n",
       "        vertical-align: middle;\n",
       "    }\n",
       "\n",
       "    .dataframe tbody tr th {\n",
       "        vertical-align: top;\n",
       "    }\n",
       "\n",
       "    .dataframe thead th {\n",
       "        text-align: right;\n",
       "    }\n",
       "</style>\n",
       "<table border=\"1\" class=\"dataframe\">\n",
       "  <thead>\n",
       "    <tr style=\"text-align: right;\">\n",
       "      <th></th>\n",
       "      <th>id</th>\n",
       "      <th>pickup_datetime</th>\n",
       "      <th>dropoff_datetime</th>\n",
       "      <th>passenger_count</th>\n",
       "      <th>pickup_longitude</th>\n",
       "      <th>pickup_latitude</th>\n",
       "      <th>dropoff_longitude</th>\n",
       "      <th>dropoff_latitude</th>\n",
       "    </tr>\n",
       "  </thead>\n",
       "  <tbody>\n",
       "    <tr>\n",
       "      <th>0</th>\n",
       "      <td>id2875421</td>\n",
       "      <td>2016-03-14 17:24:55</td>\n",
       "      <td>2016-03-14 17:32:30</td>\n",
       "      <td>1</td>\n",
       "      <td>-73.982155</td>\n",
       "      <td>40.767937</td>\n",
       "      <td>-73.964630</td>\n",
       "      <td>40.765602</td>\n",
       "    </tr>\n",
       "    <tr>\n",
       "      <th>1</th>\n",
       "      <td>id2377394</td>\n",
       "      <td>2016-06-12 00:43:35</td>\n",
       "      <td>2016-06-12 00:54:38</td>\n",
       "      <td>1</td>\n",
       "      <td>-73.980415</td>\n",
       "      <td>40.738564</td>\n",
       "      <td>-73.999481</td>\n",
       "      <td>40.731152</td>\n",
       "    </tr>\n",
       "    <tr>\n",
       "      <th>2</th>\n",
       "      <td>id3858529</td>\n",
       "      <td>2016-01-19 11:35:24</td>\n",
       "      <td>2016-01-19 12:10:48</td>\n",
       "      <td>1</td>\n",
       "      <td>-73.979027</td>\n",
       "      <td>40.763939</td>\n",
       "      <td>-74.005333</td>\n",
       "      <td>40.710087</td>\n",
       "    </tr>\n",
       "    <tr>\n",
       "      <th>3</th>\n",
       "      <td>id3504673</td>\n",
       "      <td>2016-04-06 19:32:31</td>\n",
       "      <td>2016-04-06 19:39:40</td>\n",
       "      <td>1</td>\n",
       "      <td>-74.010040</td>\n",
       "      <td>40.719971</td>\n",
       "      <td>-74.012268</td>\n",
       "      <td>40.706718</td>\n",
       "    </tr>\n",
       "    <tr>\n",
       "      <th>4</th>\n",
       "      <td>id2181028</td>\n",
       "      <td>2016-03-26 13:30:55</td>\n",
       "      <td>2016-03-26 13:38:10</td>\n",
       "      <td>1</td>\n",
       "      <td>-73.973053</td>\n",
       "      <td>40.793209</td>\n",
       "      <td>-73.972923</td>\n",
       "      <td>40.782520</td>\n",
       "    </tr>\n",
       "  </tbody>\n",
       "</table>\n",
       "</div>"
      ],
      "text/plain": [
       "          id     pickup_datetime    dropoff_datetime  passenger_count  \\\n",
       "0  id2875421 2016-03-14 17:24:55 2016-03-14 17:32:30                1   \n",
       "1  id2377394 2016-06-12 00:43:35 2016-06-12 00:54:38                1   \n",
       "2  id3858529 2016-01-19 11:35:24 2016-01-19 12:10:48                1   \n",
       "3  id3504673 2016-04-06 19:32:31 2016-04-06 19:39:40                1   \n",
       "4  id2181028 2016-03-26 13:30:55 2016-03-26 13:38:10                1   \n",
       "\n",
       "   pickup_longitude  pickup_latitude  dropoff_longitude  dropoff_latitude  \n",
       "0        -73.982155        40.767937         -73.964630         40.765602  \n",
       "1        -73.980415        40.738564         -73.999481         40.731152  \n",
       "2        -73.979027        40.763939         -74.005333         40.710087  \n",
       "3        -74.010040        40.719971         -74.012268         40.706718  \n",
       "4        -73.973053        40.793209         -73.972923         40.782520  "
      ]
     },
     "execution_count": 2,
     "metadata": {},
     "output_type": "execute_result"
    }
   ],
   "source": [
    "train.head()"
   ]
  },
  {
   "cell_type": "markdown",
   "metadata": {
    "papermill": {
     "duration": 0.020056,
     "end_time": "2021-02-14T14:39:06.955593",
     "exception": false,
     "start_time": "2021-02-14T14:39:06.935537",
     "status": "completed"
    },
    "tags": []
   },
   "source": [
    "# Feature Engineering"
   ]
  },
  {
   "cell_type": "code",
   "execution_count": 3,
   "metadata": {
    "execution": {
     "iopub.execute_input": "2021-02-14T14:39:07.148478Z",
     "iopub.status.busy": "2021-02-14T14:39:07.147736Z",
     "iopub.status.idle": "2021-02-14T14:39:07.188231Z",
     "shell.execute_reply": "2021-02-14T14:39:07.188754Z"
    },
    "papermill": {
     "duration": 0.213152,
     "end_time": "2021-02-14T14:39:07.188918",
     "exception": false,
     "start_time": "2021-02-14T14:39:06.975766",
     "status": "completed"
    },
    "tags": []
   },
   "outputs": [
    {
     "name": "stdout",
     "output_type": "stream",
     "text": [
      "<class 'pandas.core.frame.DataFrame'>\n",
      "RangeIndex: 1458611 entries, 0 to 1458610\n",
      "Data columns (total 8 columns):\n",
      " #   Column             Non-Null Count    Dtype         \n",
      "---  ------             --------------    -----         \n",
      " 0   id                 1458611 non-null  object        \n",
      " 1   pickup_datetime    1458611 non-null  datetime64[ns]\n",
      " 2   dropoff_datetime   1458611 non-null  datetime64[ns]\n",
      " 3   passenger_count    1458611 non-null  int64         \n",
      " 4   pickup_longitude   1458611 non-null  float64       \n",
      " 5   pickup_latitude    1458611 non-null  float64       \n",
      " 6   dropoff_longitude  1458611 non-null  float64       \n",
      " 7   dropoff_latitude   1458611 non-null  float64       \n",
      "dtypes: datetime64[ns](2), float64(4), int64(1), object(1)\n",
      "memory usage: 89.0+ MB\n"
     ]
    }
   ],
   "source": [
    "train.info()"
   ]
  },
  {
   "cell_type": "markdown",
   "metadata": {
    "papermill": {
     "duration": 0.020312,
     "end_time": "2021-02-14T14:39:07.231318",
     "exception": false,
     "start_time": "2021-02-14T14:39:07.211006",
     "status": "completed"
    },
    "tags": []
   },
   "source": [
    "## Creating Distance feature"
   ]
  },
  {
   "cell_type": "code",
   "execution_count": 4,
   "metadata": {
    "execution": {
     "iopub.execute_input": "2021-02-14T14:39:07.283290Z",
     "iopub.status.busy": "2021-02-14T14:39:07.282601Z",
     "iopub.status.idle": "2021-02-14T14:39:07.523700Z",
     "shell.execute_reply": "2021-02-14T14:39:07.523199Z"
    },
    "papermill": {
     "duration": 0.271605,
     "end_time": "2021-02-14T14:39:07.523829",
     "exception": false,
     "start_time": "2021-02-14T14:39:07.252224",
     "status": "completed"
    },
    "tags": []
   },
   "outputs": [
    {
     "name": "stdout",
     "output_type": "stream",
     "text": [
      "1458611\n"
     ]
    }
   ],
   "source": [
    "train['x'] = (train.pickup_longitude - train.dropoff_longitude)**2\n",
    "train['y'] = (train.pickup_latitude - train.dropoff_latitude)**2\n",
    "train['distance_sqrt'] = train.x + train.y\n",
    "train['distance'] = np.sqrt(train.distance_sqrt) * 1000\n",
    "\n",
    "test['x'] = (test.pickup_longitude - test.dropoff_longitude)**2\n",
    "test['y'] = (test.pickup_latitude - test.dropoff_latitude)**2\n",
    "test['distance_sqrt'] = test.x + test.y\n",
    "test['distance'] = np.sqrt(test.distance_sqrt) *1000\n",
    "\n",
    "train = train.drop(['x','y','distance_sqrt'],axis=1)\n",
    "test = test.drop(['x','y','distance_sqrt'],axis=1)\n",
    "print(len(train))"
   ]
  },
  {
   "cell_type": "markdown",
   "metadata": {
    "papermill": {
     "duration": 0.020791,
     "end_time": "2021-02-14T14:39:07.565856",
     "exception": false,
     "start_time": "2021-02-14T14:39:07.545065",
     "status": "completed"
    },
    "tags": []
   },
   "source": [
    "## Creating Month, Day, Hour features"
   ]
  },
  {
   "cell_type": "code",
   "execution_count": 5,
   "metadata": {
    "execution": {
     "iopub.execute_input": "2021-02-14T14:39:07.616672Z",
     "iopub.status.busy": "2021-02-14T14:39:07.615772Z",
     "iopub.status.idle": "2021-02-14T14:39:08.377506Z",
     "shell.execute_reply": "2021-02-14T14:39:08.378048Z"
    },
    "papermill": {
     "duration": 0.79085,
     "end_time": "2021-02-14T14:39:08.378209",
     "exception": false,
     "start_time": "2021-02-14T14:39:07.587359",
     "status": "completed"
    },
    "tags": []
   },
   "outputs": [
    {
     "name": "stdout",
     "output_type": "stream",
     "text": [
      "1458611\n"
     ]
    }
   ],
   "source": [
    "train = train.assign(pmonth=train.pickup_datetime.dt.month, pday = train.pickup_datetime.dt.day, phour = train.pickup_datetime.dt.hour)\n",
    "test = test.assign(pmonth=test.pickup_datetime.dt.month, pday = test.pickup_datetime.dt.day, phour = test.pickup_datetime.dt.hour)\n",
    "print(len(train))"
   ]
  },
  {
   "cell_type": "markdown",
   "metadata": {
    "papermill": {
     "duration": 0.021237,
     "end_time": "2021-02-14T14:39:08.421175",
     "exception": false,
     "start_time": "2021-02-14T14:39:08.399938",
     "status": "completed"
    },
    "tags": []
   },
   "source": [
    "## Dropping pickup and dropoff time features"
   ]
  },
  {
   "cell_type": "code",
   "execution_count": 6,
   "metadata": {
    "execution": {
     "iopub.execute_input": "2021-02-14T14:39:08.471516Z",
     "iopub.status.busy": "2021-02-14T14:39:08.470877Z",
     "iopub.status.idle": "2021-02-14T14:39:08.570318Z",
     "shell.execute_reply": "2021-02-14T14:39:08.571035Z"
    },
    "papermill": {
     "duration": 0.128308,
     "end_time": "2021-02-14T14:39:08.571242",
     "exception": false,
     "start_time": "2021-02-14T14:39:08.442934",
     "status": "completed"
    },
    "tags": []
   },
   "outputs": [
    {
     "name": "stdout",
     "output_type": "stream",
     "text": [
      "1458611\n",
      "1458611\n"
     ]
    }
   ],
   "source": [
    "X_train = train.drop(['pickup_datetime','dropoff_datetime','id'],axis=1)\n",
    "X_test = test.drop(['pickup_datetime','id'],axis=1)\n",
    "print(len(train))\n",
    "print(len(X_train))"
   ]
  },
  {
   "cell_type": "code",
   "execution_count": 7,
   "metadata": {
    "execution": {
     "iopub.execute_input": "2021-02-14T14:39:08.621939Z",
     "iopub.status.busy": "2021-02-14T14:39:08.621244Z",
     "iopub.status.idle": "2021-02-14T14:39:08.659970Z",
     "shell.execute_reply": "2021-02-14T14:39:08.660488Z"
    },
    "papermill": {
     "duration": 0.066206,
     "end_time": "2021-02-14T14:39:08.660630",
     "exception": false,
     "start_time": "2021-02-14T14:39:08.594424",
     "status": "completed"
    },
    "tags": []
   },
   "outputs": [
    {
     "name": "stdout",
     "output_type": "stream",
     "text": [
      "<class 'pandas.core.frame.DataFrame'>\n",
      "RangeIndex: 1458611 entries, 0 to 1458610\n",
      "Data columns (total 9 columns):\n",
      " #   Column             Non-Null Count    Dtype  \n",
      "---  ------             --------------    -----  \n",
      " 0   passenger_count    1458611 non-null  int64  \n",
      " 1   pickup_longitude   1458611 non-null  float64\n",
      " 2   pickup_latitude    1458611 non-null  float64\n",
      " 3   dropoff_longitude  1458611 non-null  float64\n",
      " 4   dropoff_latitude   1458611 non-null  float64\n",
      " 5   distance           1458611 non-null  float64\n",
      " 6   pmonth             1458611 non-null  int64  \n",
      " 7   pday               1458611 non-null  int64  \n",
      " 8   phour              1458611 non-null  int64  \n",
      "dtypes: float64(5), int64(4)\n",
      "memory usage: 100.2 MB\n"
     ]
    }
   ],
   "source": [
    "X_train.info()"
   ]
  },
  {
   "cell_type": "markdown",
   "metadata": {
    "papermill": {
     "duration": 0.022147,
     "end_time": "2021-02-14T14:39:08.705394",
     "exception": false,
     "start_time": "2021-02-14T14:39:08.683247",
     "status": "completed"
    },
    "tags": []
   },
   "source": [
    "## Creating Pickup Boroughs for train dataset"
   ]
  },
  {
   "cell_type": "code",
   "execution_count": 8,
   "metadata": {
    "execution": {
     "iopub.execute_input": "2021-02-14T14:39:08.816150Z",
     "iopub.status.busy": "2021-02-14T14:39:08.779710Z",
     "iopub.status.idle": "2021-02-14T14:39:10.299185Z",
     "shell.execute_reply": "2021-02-14T14:39:10.298545Z"
    },
    "papermill": {
     "duration": 1.571303,
     "end_time": "2021-02-14T14:39:10.299308",
     "exception": false,
     "start_time": "2021-02-14T14:39:08.728005",
     "status": "completed"
    },
    "tags": []
   },
   "outputs": [],
   "source": [
    "train_pickup_borough = []\n",
    "for j,k in zip(X_train.pickup_longitude,X_train.pickup_latitude):\n",
    "    if ((j>=-74.040269) and (j<=-73.865036)) and ((k>=40.574031) and (k<=40.736728)):\n",
    "        train_pickup_borough.append('Brooklyn')\n",
    "    elif ((j>=-74.245856) and (j<=-73.057562)) and ((k>=40.502863) and (k<=40.647234)):\n",
    "        train_pickup_borough.append('Staten_island')\n",
    "    elif ((j>=-74.011645) and (j<=-73.913772)) and ((k>=40.703384) and (k<=40.876058)):\n",
    "        train_pickup_borough.append('Manhattan')\n",
    "    elif ((j>=-73.931573) and (j<=-73.781473)) and ((k>=40.797766) and (k<=40.912460)):\n",
    "        train_pickup_borough.append('Bronx')\n",
    "    else: train_pickup_borough.append('Queens')\n",
    "Borough_ptrain = pd.DataFrame(train_pickup_borough,columns=['pickup_borough'])\n",
    "X_train = pd.concat([X_train,Borough_ptrain], axis=1)"
   ]
  },
  {
   "cell_type": "markdown",
   "metadata": {
    "papermill": {
     "duration": 0.023234,
     "end_time": "2021-02-14T14:39:10.346219",
     "exception": false,
     "start_time": "2021-02-14T14:39:10.322985",
     "status": "completed"
    },
    "tags": []
   },
   "source": [
    "## Creating Pickup Borough for test dataset"
   ]
  },
  {
   "cell_type": "code",
   "execution_count": 9,
   "metadata": {
    "execution": {
     "iopub.execute_input": "2021-02-14T14:39:10.421952Z",
     "iopub.status.busy": "2021-02-14T14:39:10.406676Z",
     "iopub.status.idle": "2021-02-14T14:39:11.150043Z",
     "shell.execute_reply": "2021-02-14T14:39:11.149460Z"
    },
    "papermill": {
     "duration": 0.780292,
     "end_time": "2021-02-14T14:39:11.150173",
     "exception": false,
     "start_time": "2021-02-14T14:39:10.369881",
     "status": "completed"
    },
    "tags": []
   },
   "outputs": [
    {
     "name": "stdout",
     "output_type": "stream",
     "text": [
      "<class 'pandas.core.frame.DataFrame'>\n",
      "RangeIndex: 625134 entries, 0 to 625133\n",
      "Data columns (total 10 columns):\n",
      " #   Column             Non-Null Count   Dtype  \n",
      "---  ------             --------------   -----  \n",
      " 0   passenger_count    625134 non-null  int64  \n",
      " 1   pickup_longitude   625134 non-null  float64\n",
      " 2   pickup_latitude    625134 non-null  float64\n",
      " 3   dropoff_longitude  625134 non-null  float64\n",
      " 4   dropoff_latitude   625134 non-null  float64\n",
      " 5   distance           625134 non-null  float64\n",
      " 6   pmonth             625134 non-null  int64  \n",
      " 7   pday               625134 non-null  int64  \n",
      " 8   phour              625134 non-null  int64  \n",
      " 9   pickup_borough     625134 non-null  object \n",
      "dtypes: float64(5), int64(4), object(1)\n",
      "memory usage: 47.7+ MB\n"
     ]
    }
   ],
   "source": [
    "test_pickup_borough = []\n",
    "for g,h in zip(X_test.pickup_longitude,X_test.pickup_latitude):\n",
    "    if ((g>=-74.040269) and (g<=-73.865036)) and ((h>=40.574031) and (h<=40.736728)):\n",
    "        test_pickup_borough.append('Brooklyn')\n",
    "    elif ((g>=-74.245856) and (g<=-73.057562)) and ((h>=40.502863) and (h<=40.647234)):\n",
    "        test_pickup_borough.append('Staten_island')\n",
    "    elif ((g>=-74.011645) and (g<=-73.913772)) and ((h>=40.703384) and (h<=40.876058)):\n",
    "        test_pickup_borough.append('Manhattan')\n",
    "    elif ((g>=-73.931573) and (g<=-73.781473)) and ((h>=40.797766) and (h<=40.912460)):\n",
    "        test_pickup_borough.append('Bronx')\n",
    "    else: test_pickup_borough.append('Queens')\n",
    "Borough_ptest = pd.DataFrame(test_pickup_borough,columns=['pickup_borough'])\n",
    "X_test = pd.concat([X_test,Borough_ptest],axis=1)\n",
    "X_test.info()"
   ]
  },
  {
   "cell_type": "markdown",
   "metadata": {
    "papermill": {
     "duration": 0.023296,
     "end_time": "2021-02-14T14:39:11.196856",
     "exception": false,
     "start_time": "2021-02-14T14:39:11.173560",
     "status": "completed"
    },
    "tags": []
   },
   "source": [
    "## Creating Dropoff Borough for train dataset "
   ]
  },
  {
   "cell_type": "code",
   "execution_count": 10,
   "metadata": {
    "execution": {
     "iopub.execute_input": "2021-02-14T14:39:11.272831Z",
     "iopub.status.busy": "2021-02-14T14:39:11.262561Z",
     "iopub.status.idle": "2021-02-14T14:39:13.189225Z",
     "shell.execute_reply": "2021-02-14T14:39:13.187649Z"
    },
    "papermill": {
     "duration": 1.969245,
     "end_time": "2021-02-14T14:39:13.189473",
     "exception": false,
     "start_time": "2021-02-14T14:39:11.220228",
     "status": "completed"
    },
    "tags": []
   },
   "outputs": [
    {
     "name": "stdout",
     "output_type": "stream",
     "text": [
      "<class 'pandas.core.frame.DataFrame'>\n",
      "RangeIndex: 1458611 entries, 0 to 1458610\n",
      "Data columns (total 11 columns):\n",
      " #   Column             Non-Null Count    Dtype  \n",
      "---  ------             --------------    -----  \n",
      " 0   passenger_count    1458611 non-null  int64  \n",
      " 1   pickup_longitude   1458611 non-null  float64\n",
      " 2   pickup_latitude    1458611 non-null  float64\n",
      " 3   dropoff_longitude  1458611 non-null  float64\n",
      " 4   dropoff_latitude   1458611 non-null  float64\n",
      " 5   distance           1458611 non-null  float64\n",
      " 6   pmonth             1458611 non-null  int64  \n",
      " 7   pday               1458611 non-null  int64  \n",
      " 8   phour              1458611 non-null  int64  \n",
      " 9   pickup_borough     1458611 non-null  object \n",
      " 10  dropoff_borough    1458611 non-null  object \n",
      "dtypes: float64(5), int64(4), object(2)\n",
      "memory usage: 122.4+ MB\n"
     ]
    }
   ],
   "source": [
    "train_dropoff_borough = []\n",
    "for d,f in zip(X_train.dropoff_longitude,X_train.dropoff_latitude):\n",
    "    if ((d>=-74.040269) and (d<=-73.865036)) and ((f>=40.574031) and (f<=40.736728)):\n",
    "        train_dropoff_borough.append('Brooklyn')\n",
    "    elif ((d>=-74.245856) and (d<=-73.057562)) and ((f>=40.502863) and (f<=40.647234)):\n",
    "        train_dropoff_borough.append('Staten_island')\n",
    "    elif ((d>=-74.011645) and (d<=-73.913772)) and ((f>=40.703384) and (f<=40.876058)):\n",
    "        train_dropoff_borough.append('Manhattan')\n",
    "    elif ((d>=-73.931573) and (d<=-73.781473)) and ((f>=40.797766) and (f<=40.912460)):\n",
    "        train_dropoff_borough.append('Bronx')\n",
    "    else: train_dropoff_borough.append('Queens')\n",
    "Borough_dtrain = pd.DataFrame(train_dropoff_borough,columns=['dropoff_borough'])\n",
    "X_train = pd.concat([X_train,Borough_dtrain],axis=1)\n",
    "X_train.info()"
   ]
  },
  {
   "cell_type": "markdown",
   "metadata": {
    "papermill": {
     "duration": 0.023661,
     "end_time": "2021-02-14T14:39:13.237963",
     "exception": false,
     "start_time": "2021-02-14T14:39:13.214302",
     "status": "completed"
    },
    "tags": []
   },
   "source": [
    "## Creating Dropoff Borough for test dataset"
   ]
  },
  {
   "cell_type": "code",
   "execution_count": 11,
   "metadata": {
    "execution": {
     "iopub.execute_input": "2021-02-14T14:39:13.304914Z",
     "iopub.status.busy": "2021-02-14T14:39:13.299349Z",
     "iopub.status.idle": "2021-02-14T14:39:14.147279Z",
     "shell.execute_reply": "2021-02-14T14:39:14.146275Z"
    },
    "papermill": {
     "duration": 0.885511,
     "end_time": "2021-02-14T14:39:14.147452",
     "exception": false,
     "start_time": "2021-02-14T14:39:13.261941",
     "status": "completed"
    },
    "tags": []
   },
   "outputs": [
    {
     "name": "stdout",
     "output_type": "stream",
     "text": [
      "<class 'pandas.core.frame.DataFrame'>\n",
      "RangeIndex: 625134 entries, 0 to 625133\n",
      "Data columns (total 11 columns):\n",
      " #   Column             Non-Null Count   Dtype  \n",
      "---  ------             --------------   -----  \n",
      " 0   passenger_count    625134 non-null  int64  \n",
      " 1   pickup_longitude   625134 non-null  float64\n",
      " 2   pickup_latitude    625134 non-null  float64\n",
      " 3   dropoff_longitude  625134 non-null  float64\n",
      " 4   dropoff_latitude   625134 non-null  float64\n",
      " 5   distance           625134 non-null  float64\n",
      " 6   pmonth             625134 non-null  int64  \n",
      " 7   pday               625134 non-null  int64  \n",
      " 8   phour              625134 non-null  int64  \n",
      " 9   pickup_borough     625134 non-null  object \n",
      " 10  dropoff_borough    625134 non-null  object \n",
      "dtypes: float64(5), int64(4), object(2)\n",
      "memory usage: 52.5+ MB\n"
     ]
    }
   ],
   "source": [
    "test_dropoff_borough = []\n",
    "for a,s in zip(X_test.dropoff_longitude,X_test.dropoff_latitude):\n",
    "    if ((a>=-74.040269) and (a<=-73.865036)) and ((s>=40.574031) and (s<=40.736728)):\n",
    "        test_dropoff_borough.append('Brooklyn')\n",
    "    elif ((a>=-74.245856) and (a<=-73.057562)) and ((s>=40.502863) and (s<=40.647234)):\n",
    "        test_dropoff_borough.append('Staten_island')\n",
    "    elif ((a>=-74.011645) and (a<=-73.913772)) and ((s>=40.703384) and (s<=40.876058)):\n",
    "        test_dropoff_borough.append('Manhattan')\n",
    "    elif ((a>=-73.931573) and (a<=-73.781473)) and ((s>=40.797766) and (s<=40.912460)):\n",
    "        test_dropoff_borough.append('Bronx')\n",
    "    else: test_dropoff_borough.append('Queens')\n",
    "Borough_dtest = pd.DataFrame(test_dropoff_borough,columns=['dropoff_borough'])\n",
    "X_test = pd.concat([X_test,Borough_dtest],axis=1)\n",
    "X_test.info()"
   ]
  },
  {
   "cell_type": "markdown",
   "metadata": {
    "papermill": {
     "duration": 0.023994,
     "end_time": "2021-02-14T14:39:14.198197",
     "exception": false,
     "start_time": "2021-02-14T14:39:14.174203",
     "status": "completed"
    },
    "tags": []
   },
   "source": [
    "## Creating avg borough speed feature"
   ]
  },
  {
   "cell_type": "code",
   "execution_count": 12,
   "metadata": {
    "execution": {
     "iopub.execute_input": "2021-02-14T14:39:14.256870Z",
     "iopub.status.busy": "2021-02-14T14:39:14.255761Z",
     "iopub.status.idle": "2021-02-14T14:39:14.261707Z",
     "shell.execute_reply": "2021-02-14T14:39:14.261105Z"
    },
    "papermill": {
     "duration": 0.039028,
     "end_time": "2021-02-14T14:39:14.261844",
     "exception": false,
     "start_time": "2021-02-14T14:39:14.222816",
     "status": "completed"
    },
    "tags": []
   },
   "outputs": [],
   "source": [
    "X_train['speed'] = X_train['distance'] / y"
   ]
  },
  {
   "cell_type": "code",
   "execution_count": 13,
   "metadata": {
    "execution": {
     "iopub.execute_input": "2021-02-14T14:39:14.320549Z",
     "iopub.status.busy": "2021-02-14T14:39:14.319841Z",
     "iopub.status.idle": "2021-02-14T14:39:14.323229Z",
     "shell.execute_reply": "2021-02-14T14:39:14.322553Z"
    },
    "papermill": {
     "duration": 0.036861,
     "end_time": "2021-02-14T14:39:14.323346",
     "exception": false,
     "start_time": "2021-02-14T14:39:14.286485",
     "status": "completed"
    },
    "tags": []
   },
   "outputs": [],
   "source": [
    "from typing import List\n",
    "def assign_borough_speed(df: pd.DataFrame) -> pd.DataFrame:\n",
    "    borough_speed = []\n",
    "    for colitter in df['dropoff_borough']:\n",
    "        if colitter == 'Staten_island':\n",
    "            borough_speed.append(20.179187)\n",
    "        elif colitter == 'Bronx':\n",
    "            borough_speed.append(14.042448)\n",
    "        elif colitter == 'Queens':\n",
    "            borough_speed.append(12.183943)\n",
    "        elif colitter == 'Brooklin':\n",
    "            borough_speed.append(4.583516)\n",
    "        else: borough_speed.append(3.450198)\n",
    "    \n",
    "    borough_speed = pd.DataFrame(borough_speed, columns=['borough_speed'])\n",
    "    return pd.concat([df, borough_speed], axis=1) "
   ]
  },
  {
   "cell_type": "code",
   "execution_count": 14,
   "metadata": {
    "execution": {
     "iopub.execute_input": "2021-02-14T14:39:14.424637Z",
     "iopub.status.busy": "2021-02-14T14:39:14.382504Z",
     "iopub.status.idle": "2021-02-14T14:39:15.603914Z",
     "shell.execute_reply": "2021-02-14T14:39:15.603245Z"
    },
    "papermill": {
     "duration": 1.2559,
     "end_time": "2021-02-14T14:39:15.604036",
     "exception": false,
     "start_time": "2021-02-14T14:39:14.348136",
     "status": "completed"
    },
    "tags": []
   },
   "outputs": [],
   "source": [
    "X_train = assign_borough_speed(df=X_train)\n",
    "X_test = assign_borough_speed(df=X_test)"
   ]
  },
  {
   "cell_type": "markdown",
   "metadata": {
    "papermill": {
     "duration": 0.024795,
     "end_time": "2021-02-14T14:39:15.654124",
     "exception": false,
     "start_time": "2021-02-14T14:39:15.629329",
     "status": "completed"
    },
    "tags": []
   },
   "source": [
    "## Transforming borough from characters to numbers"
   ]
  },
  {
   "cell_type": "code",
   "execution_count": 15,
   "metadata": {
    "execution": {
     "iopub.execute_input": "2021-02-14T14:39:15.722069Z",
     "iopub.status.busy": "2021-02-14T14:39:15.709260Z",
     "iopub.status.idle": "2021-02-14T14:39:15.726656Z",
     "shell.execute_reply": "2021-02-14T14:39:15.727144Z"
    },
    "papermill": {
     "duration": 0.048111,
     "end_time": "2021-02-14T14:39:15.727293",
     "exception": false,
     "start_time": "2021-02-14T14:39:15.679182",
     "status": "completed"
    },
    "tags": []
   },
   "outputs": [
    {
     "data": {
      "text/html": [
       "<div>\n",
       "<style scoped>\n",
       "    .dataframe tbody tr th:only-of-type {\n",
       "        vertical-align: middle;\n",
       "    }\n",
       "\n",
       "    .dataframe tbody tr th {\n",
       "        vertical-align: top;\n",
       "    }\n",
       "\n",
       "    .dataframe thead th {\n",
       "        text-align: right;\n",
       "    }\n",
       "</style>\n",
       "<table border=\"1\" class=\"dataframe\">\n",
       "  <thead>\n",
       "    <tr style=\"text-align: right;\">\n",
       "      <th></th>\n",
       "      <th>passenger_count</th>\n",
       "      <th>pickup_longitude</th>\n",
       "      <th>pickup_latitude</th>\n",
       "      <th>dropoff_longitude</th>\n",
       "      <th>dropoff_latitude</th>\n",
       "      <th>distance</th>\n",
       "      <th>pmonth</th>\n",
       "      <th>pday</th>\n",
       "      <th>phour</th>\n",
       "      <th>pickup_borough</th>\n",
       "      <th>dropoff_borough</th>\n",
       "      <th>speed</th>\n",
       "      <th>borough_speed</th>\n",
       "    </tr>\n",
       "  </thead>\n",
       "  <tbody>\n",
       "    <tr>\n",
       "      <th>0</th>\n",
       "      <td>1</td>\n",
       "      <td>-73.982155</td>\n",
       "      <td>40.767937</td>\n",
       "      <td>-73.964630</td>\n",
       "      <td>40.765602</td>\n",
       "      <td>17.679539</td>\n",
       "      <td>3</td>\n",
       "      <td>14</td>\n",
       "      <td>17</td>\n",
       "      <td>Manhattan</td>\n",
       "      <td>Manhattan</td>\n",
       "      <td>2.431762</td>\n",
       "      <td>3.450198</td>\n",
       "    </tr>\n",
       "    <tr>\n",
       "      <th>1</th>\n",
       "      <td>1</td>\n",
       "      <td>-73.980415</td>\n",
       "      <td>40.738564</td>\n",
       "      <td>-73.999481</td>\n",
       "      <td>40.731152</td>\n",
       "      <td>20.455904</td>\n",
       "      <td>6</td>\n",
       "      <td>12</td>\n",
       "      <td>0</td>\n",
       "      <td>Manhattan</td>\n",
       "      <td>Brooklyn</td>\n",
       "      <td>2.621872</td>\n",
       "      <td>3.450198</td>\n",
       "    </tr>\n",
       "    <tr>\n",
       "      <th>2</th>\n",
       "      <td>1</td>\n",
       "      <td>-73.979027</td>\n",
       "      <td>40.763939</td>\n",
       "      <td>-74.005333</td>\n",
       "      <td>40.710087</td>\n",
       "      <td>59.933799</td>\n",
       "      <td>1</td>\n",
       "      <td>19</td>\n",
       "      <td>11</td>\n",
       "      <td>Manhattan</td>\n",
       "      <td>Brooklyn</td>\n",
       "      <td>6.297136</td>\n",
       "      <td>3.450198</td>\n",
       "    </tr>\n",
       "    <tr>\n",
       "      <th>3</th>\n",
       "      <td>1</td>\n",
       "      <td>-74.010040</td>\n",
       "      <td>40.719971</td>\n",
       "      <td>-74.012268</td>\n",
       "      <td>40.706718</td>\n",
       "      <td>13.438206</td>\n",
       "      <td>4</td>\n",
       "      <td>6</td>\n",
       "      <td>19</td>\n",
       "      <td>Brooklyn</td>\n",
       "      <td>Brooklyn</td>\n",
       "      <td>1.869498</td>\n",
       "      <td>3.450198</td>\n",
       "    </tr>\n",
       "    <tr>\n",
       "      <th>4</th>\n",
       "      <td>1</td>\n",
       "      <td>-73.973053</td>\n",
       "      <td>40.793209</td>\n",
       "      <td>-73.972923</td>\n",
       "      <td>40.782520</td>\n",
       "      <td>10.689569</td>\n",
       "      <td>3</td>\n",
       "      <td>26</td>\n",
       "      <td>13</td>\n",
       "      <td>Manhattan</td>\n",
       "      <td>Manhattan</td>\n",
       "      <td>1.483118</td>\n",
       "      <td>3.450198</td>\n",
       "    </tr>\n",
       "  </tbody>\n",
       "</table>\n",
       "</div>"
      ],
      "text/plain": [
       "   passenger_count  pickup_longitude  pickup_latitude  dropoff_longitude  \\\n",
       "0                1        -73.982155        40.767937         -73.964630   \n",
       "1                1        -73.980415        40.738564         -73.999481   \n",
       "2                1        -73.979027        40.763939         -74.005333   \n",
       "3                1        -74.010040        40.719971         -74.012268   \n",
       "4                1        -73.973053        40.793209         -73.972923   \n",
       "\n",
       "   dropoff_latitude   distance  pmonth  pday  phour pickup_borough  \\\n",
       "0         40.765602  17.679539       3    14     17      Manhattan   \n",
       "1         40.731152  20.455904       6    12      0      Manhattan   \n",
       "2         40.710087  59.933799       1    19     11      Manhattan   \n",
       "3         40.706718  13.438206       4     6     19       Brooklyn   \n",
       "4         40.782520  10.689569       3    26     13      Manhattan   \n",
       "\n",
       "  dropoff_borough     speed  borough_speed  \n",
       "0       Manhattan  2.431762       3.450198  \n",
       "1        Brooklyn  2.621872       3.450198  \n",
       "2        Brooklyn  6.297136       3.450198  \n",
       "3        Brooklyn  1.869498       3.450198  \n",
       "4       Manhattan  1.483118       3.450198  "
      ]
     },
     "execution_count": 15,
     "metadata": {},
     "output_type": "execute_result"
    }
   ],
   "source": [
    "X_train.head()"
   ]
  },
  {
   "cell_type": "code",
   "execution_count": 16,
   "metadata": {
    "execution": {
     "iopub.execute_input": "2021-02-14T14:39:15.786063Z",
     "iopub.status.busy": "2021-02-14T14:39:15.785369Z",
     "iopub.status.idle": "2021-02-14T14:39:17.281717Z",
     "shell.execute_reply": "2021-02-14T14:39:17.281148Z"
    },
    "papermill": {
     "duration": 1.528891,
     "end_time": "2021-02-14T14:39:17.281846",
     "exception": false,
     "start_time": "2021-02-14T14:39:15.752955",
     "status": "completed"
    },
    "tags": []
   },
   "outputs": [
    {
     "name": "stdout",
     "output_type": "stream",
     "text": [
      "<class 'pandas.core.frame.DataFrame'>\n",
      "RangeIndex: 1458611 entries, 0 to 1458610\n",
      "Data columns (total 13 columns):\n",
      " #   Column             Non-Null Count    Dtype  \n",
      "---  ------             --------------    -----  \n",
      " 0   passenger_count    1458611 non-null  int64  \n",
      " 1   pickup_longitude   1458611 non-null  float64\n",
      " 2   pickup_latitude    1458611 non-null  float64\n",
      " 3   dropoff_longitude  1458611 non-null  float64\n",
      " 4   dropoff_latitude   1458611 non-null  float64\n",
      " 5   distance           1458611 non-null  float64\n",
      " 6   pmonth             1458611 non-null  int64  \n",
      " 7   pday               1458611 non-null  int64  \n",
      " 8   phour              1458611 non-null  int64  \n",
      " 9   pickup_borough     1458611 non-null  int64  \n",
      " 10  dropoff_borough    1458611 non-null  int64  \n",
      " 11  speed              1458611 non-null  float64\n",
      " 12  borough_speed      1458611 non-null  float64\n",
      "dtypes: float64(7), int64(6)\n",
      "memory usage: 144.7 MB\n"
     ]
    }
   ],
   "source": [
    "from sklearn.preprocessing import LabelEncoder\n",
    "encoder = LabelEncoder()\n",
    "X_train['pickup_borough'] = encoder.fit_transform(X_train['pickup_borough'])\n",
    "X_test['pickup_borough'] =  encoder.transform(X_test['pickup_borough'])\n",
    "X_train['dropoff_borough'] = encoder.transform(X_train['dropoff_borough'])\n",
    "X_test['dropoff_borough'] =  encoder.transform(X_test['dropoff_borough'])\n",
    "X_train.info()"
   ]
  },
  {
   "cell_type": "code",
   "execution_count": 17,
   "metadata": {
    "execution": {
     "iopub.execute_input": "2021-02-14T14:39:17.351018Z",
     "iopub.status.busy": "2021-02-14T14:39:17.350032Z",
     "iopub.status.idle": "2021-02-14T14:39:17.354143Z",
     "shell.execute_reply": "2021-02-14T14:39:17.354738Z"
    },
    "papermill": {
     "duration": 0.047007,
     "end_time": "2021-02-14T14:39:17.354893",
     "exception": false,
     "start_time": "2021-02-14T14:39:17.307886",
     "status": "completed"
    },
    "tags": []
   },
   "outputs": [
    {
     "data": {
      "text/html": [
       "<div>\n",
       "<style scoped>\n",
       "    .dataframe tbody tr th:only-of-type {\n",
       "        vertical-align: middle;\n",
       "    }\n",
       "\n",
       "    .dataframe tbody tr th {\n",
       "        vertical-align: top;\n",
       "    }\n",
       "\n",
       "    .dataframe thead th {\n",
       "        text-align: right;\n",
       "    }\n",
       "</style>\n",
       "<table border=\"1\" class=\"dataframe\">\n",
       "  <thead>\n",
       "    <tr style=\"text-align: right;\">\n",
       "      <th></th>\n",
       "      <th>passenger_count</th>\n",
       "      <th>pickup_longitude</th>\n",
       "      <th>pickup_latitude</th>\n",
       "      <th>dropoff_longitude</th>\n",
       "      <th>dropoff_latitude</th>\n",
       "      <th>distance</th>\n",
       "      <th>pmonth</th>\n",
       "      <th>pday</th>\n",
       "      <th>phour</th>\n",
       "      <th>pickup_borough</th>\n",
       "      <th>dropoff_borough</th>\n",
       "      <th>speed</th>\n",
       "      <th>borough_speed</th>\n",
       "    </tr>\n",
       "  </thead>\n",
       "  <tbody>\n",
       "    <tr>\n",
       "      <th>0</th>\n",
       "      <td>1</td>\n",
       "      <td>-73.982155</td>\n",
       "      <td>40.767937</td>\n",
       "      <td>-73.964630</td>\n",
       "      <td>40.765602</td>\n",
       "      <td>17.679539</td>\n",
       "      <td>3</td>\n",
       "      <td>14</td>\n",
       "      <td>17</td>\n",
       "      <td>2</td>\n",
       "      <td>2</td>\n",
       "      <td>2.431762</td>\n",
       "      <td>3.450198</td>\n",
       "    </tr>\n",
       "    <tr>\n",
       "      <th>1</th>\n",
       "      <td>1</td>\n",
       "      <td>-73.980415</td>\n",
       "      <td>40.738564</td>\n",
       "      <td>-73.999481</td>\n",
       "      <td>40.731152</td>\n",
       "      <td>20.455904</td>\n",
       "      <td>6</td>\n",
       "      <td>12</td>\n",
       "      <td>0</td>\n",
       "      <td>2</td>\n",
       "      <td>1</td>\n",
       "      <td>2.621872</td>\n",
       "      <td>3.450198</td>\n",
       "    </tr>\n",
       "    <tr>\n",
       "      <th>2</th>\n",
       "      <td>1</td>\n",
       "      <td>-73.979027</td>\n",
       "      <td>40.763939</td>\n",
       "      <td>-74.005333</td>\n",
       "      <td>40.710087</td>\n",
       "      <td>59.933799</td>\n",
       "      <td>1</td>\n",
       "      <td>19</td>\n",
       "      <td>11</td>\n",
       "      <td>2</td>\n",
       "      <td>1</td>\n",
       "      <td>6.297136</td>\n",
       "      <td>3.450198</td>\n",
       "    </tr>\n",
       "    <tr>\n",
       "      <th>3</th>\n",
       "      <td>1</td>\n",
       "      <td>-74.010040</td>\n",
       "      <td>40.719971</td>\n",
       "      <td>-74.012268</td>\n",
       "      <td>40.706718</td>\n",
       "      <td>13.438206</td>\n",
       "      <td>4</td>\n",
       "      <td>6</td>\n",
       "      <td>19</td>\n",
       "      <td>1</td>\n",
       "      <td>1</td>\n",
       "      <td>1.869498</td>\n",
       "      <td>3.450198</td>\n",
       "    </tr>\n",
       "    <tr>\n",
       "      <th>4</th>\n",
       "      <td>1</td>\n",
       "      <td>-73.973053</td>\n",
       "      <td>40.793209</td>\n",
       "      <td>-73.972923</td>\n",
       "      <td>40.782520</td>\n",
       "      <td>10.689569</td>\n",
       "      <td>3</td>\n",
       "      <td>26</td>\n",
       "      <td>13</td>\n",
       "      <td>2</td>\n",
       "      <td>2</td>\n",
       "      <td>1.483118</td>\n",
       "      <td>3.450198</td>\n",
       "    </tr>\n",
       "  </tbody>\n",
       "</table>\n",
       "</div>"
      ],
      "text/plain": [
       "   passenger_count  pickup_longitude  pickup_latitude  dropoff_longitude  \\\n",
       "0                1        -73.982155        40.767937         -73.964630   \n",
       "1                1        -73.980415        40.738564         -73.999481   \n",
       "2                1        -73.979027        40.763939         -74.005333   \n",
       "3                1        -74.010040        40.719971         -74.012268   \n",
       "4                1        -73.973053        40.793209         -73.972923   \n",
       "\n",
       "   dropoff_latitude   distance  pmonth  pday  phour  pickup_borough  \\\n",
       "0         40.765602  17.679539       3    14     17               2   \n",
       "1         40.731152  20.455904       6    12      0               2   \n",
       "2         40.710087  59.933799       1    19     11               2   \n",
       "3         40.706718  13.438206       4     6     19               1   \n",
       "4         40.782520  10.689569       3    26     13               2   \n",
       "\n",
       "   dropoff_borough     speed  borough_speed  \n",
       "0                2  2.431762       3.450198  \n",
       "1                1  2.621872       3.450198  \n",
       "2                1  6.297136       3.450198  \n",
       "3                1  1.869498       3.450198  \n",
       "4                2  1.483118       3.450198  "
      ]
     },
     "execution_count": 17,
     "metadata": {},
     "output_type": "execute_result"
    }
   ],
   "source": [
    "X_train.head()"
   ]
  },
  {
   "cell_type": "code",
   "execution_count": 18,
   "metadata": {
    "execution": {
     "iopub.execute_input": "2021-02-14T14:39:17.462435Z",
     "iopub.status.busy": "2021-02-14T14:39:17.437383Z",
     "iopub.status.idle": "2021-02-14T14:39:17.478931Z",
     "shell.execute_reply": "2021-02-14T14:39:17.478391Z"
    },
    "papermill": {
     "duration": 0.097429,
     "end_time": "2021-02-14T14:39:17.479052",
     "exception": false,
     "start_time": "2021-02-14T14:39:17.381623",
     "status": "completed"
    },
    "tags": []
   },
   "outputs": [
    {
     "data": {
      "text/html": [
       "<div>\n",
       "<style scoped>\n",
       "    .dataframe tbody tr th:only-of-type {\n",
       "        vertical-align: middle;\n",
       "    }\n",
       "\n",
       "    .dataframe tbody tr th {\n",
       "        vertical-align: top;\n",
       "    }\n",
       "\n",
       "    .dataframe thead th {\n",
       "        text-align: right;\n",
       "    }\n",
       "</style>\n",
       "<table border=\"1\" class=\"dataframe\">\n",
       "  <thead>\n",
       "    <tr style=\"text-align: right;\">\n",
       "      <th></th>\n",
       "      <th>passenger_count</th>\n",
       "      <th>pickup_longitude</th>\n",
       "      <th>pickup_latitude</th>\n",
       "      <th>dropoff_longitude</th>\n",
       "      <th>dropoff_latitude</th>\n",
       "      <th>distance</th>\n",
       "      <th>pmonth</th>\n",
       "      <th>pday</th>\n",
       "      <th>phour</th>\n",
       "      <th>pickup_borough</th>\n",
       "      <th>dropoff_borough</th>\n",
       "      <th>borough_speed</th>\n",
       "    </tr>\n",
       "  </thead>\n",
       "  <tbody>\n",
       "    <tr>\n",
       "      <th>0</th>\n",
       "      <td>1</td>\n",
       "      <td>-73.982155</td>\n",
       "      <td>40.767937</td>\n",
       "      <td>-73.964630</td>\n",
       "      <td>40.765602</td>\n",
       "      <td>17.679539</td>\n",
       "      <td>3</td>\n",
       "      <td>14</td>\n",
       "      <td>17</td>\n",
       "      <td>2</td>\n",
       "      <td>2</td>\n",
       "      <td>3.450198</td>\n",
       "    </tr>\n",
       "    <tr>\n",
       "      <th>1</th>\n",
       "      <td>1</td>\n",
       "      <td>-73.980415</td>\n",
       "      <td>40.738564</td>\n",
       "      <td>-73.999481</td>\n",
       "      <td>40.731152</td>\n",
       "      <td>20.455904</td>\n",
       "      <td>6</td>\n",
       "      <td>12</td>\n",
       "      <td>0</td>\n",
       "      <td>2</td>\n",
       "      <td>1</td>\n",
       "      <td>3.450198</td>\n",
       "    </tr>\n",
       "    <tr>\n",
       "      <th>2</th>\n",
       "      <td>1</td>\n",
       "      <td>-73.979027</td>\n",
       "      <td>40.763939</td>\n",
       "      <td>-74.005333</td>\n",
       "      <td>40.710087</td>\n",
       "      <td>59.933799</td>\n",
       "      <td>1</td>\n",
       "      <td>19</td>\n",
       "      <td>11</td>\n",
       "      <td>2</td>\n",
       "      <td>1</td>\n",
       "      <td>3.450198</td>\n",
       "    </tr>\n",
       "    <tr>\n",
       "      <th>3</th>\n",
       "      <td>1</td>\n",
       "      <td>-74.010040</td>\n",
       "      <td>40.719971</td>\n",
       "      <td>-74.012268</td>\n",
       "      <td>40.706718</td>\n",
       "      <td>13.438206</td>\n",
       "      <td>4</td>\n",
       "      <td>6</td>\n",
       "      <td>19</td>\n",
       "      <td>1</td>\n",
       "      <td>1</td>\n",
       "      <td>3.450198</td>\n",
       "    </tr>\n",
       "    <tr>\n",
       "      <th>4</th>\n",
       "      <td>1</td>\n",
       "      <td>-73.973053</td>\n",
       "      <td>40.793209</td>\n",
       "      <td>-73.972923</td>\n",
       "      <td>40.782520</td>\n",
       "      <td>10.689569</td>\n",
       "      <td>3</td>\n",
       "      <td>26</td>\n",
       "      <td>13</td>\n",
       "      <td>2</td>\n",
       "      <td>2</td>\n",
       "      <td>3.450198</td>\n",
       "    </tr>\n",
       "  </tbody>\n",
       "</table>\n",
       "</div>"
      ],
      "text/plain": [
       "   passenger_count  pickup_longitude  pickup_latitude  dropoff_longitude  \\\n",
       "0                1        -73.982155        40.767937         -73.964630   \n",
       "1                1        -73.980415        40.738564         -73.999481   \n",
       "2                1        -73.979027        40.763939         -74.005333   \n",
       "3                1        -74.010040        40.719971         -74.012268   \n",
       "4                1        -73.973053        40.793209         -73.972923   \n",
       "\n",
       "   dropoff_latitude   distance  pmonth  pday  phour  pickup_borough  \\\n",
       "0         40.765602  17.679539       3    14     17               2   \n",
       "1         40.731152  20.455904       6    12      0               2   \n",
       "2         40.710087  59.933799       1    19     11               2   \n",
       "3         40.706718  13.438206       4     6     19               1   \n",
       "4         40.782520  10.689569       3    26     13               2   \n",
       "\n",
       "   dropoff_borough  borough_speed  \n",
       "0                2       3.450198  \n",
       "1                1       3.450198  \n",
       "2                1       3.450198  \n",
       "3                1       3.450198  \n",
       "4                2       3.450198  "
      ]
     },
     "execution_count": 18,
     "metadata": {},
     "output_type": "execute_result"
    }
   ],
   "source": [
    "X_train = X_train.drop(['speed'],axis=1)\n",
    "X_train.head()"
   ]
  },
  {
   "cell_type": "markdown",
   "metadata": {
    "papermill": {
     "duration": 0.026866,
     "end_time": "2021-02-14T14:39:17.533164",
     "exception": false,
     "start_time": "2021-02-14T14:39:17.506298",
     "status": "completed"
    },
    "tags": []
   },
   "source": [
    "# Model"
   ]
  },
  {
   "cell_type": "code",
   "execution_count": 19,
   "metadata": {
    "execution": {
     "iopub.execute_input": "2021-02-14T14:39:17.593419Z",
     "iopub.status.busy": "2021-02-14T14:39:17.592687Z",
     "iopub.status.idle": "2021-02-14T14:40:56.547593Z",
     "shell.execute_reply": "2021-02-14T14:40:56.548298Z"
    },
    "papermill": {
     "duration": 98.988142,
     "end_time": "2021-02-14T14:40:56.548503",
     "exception": false,
     "start_time": "2021-02-14T14:39:17.560361",
     "status": "completed"
    },
    "tags": []
   },
   "outputs": [],
   "source": [
    "from xgboost import XGBRegressor\n",
    "model = XGBRegressor()\n",
    "model.fit(X_train,y)\n",
    "preds = model.predict(X_test)"
   ]
  },
  {
   "cell_type": "code",
   "execution_count": 20,
   "metadata": {
    "execution": {
     "iopub.execute_input": "2021-02-14T14:40:56.626077Z",
     "iopub.status.busy": "2021-02-14T14:40:56.625253Z",
     "iopub.status.idle": "2021-02-14T14:40:56.672091Z",
     "shell.execute_reply": "2021-02-14T14:40:56.672812Z"
    },
    "papermill": {
     "duration": 0.088396,
     "end_time": "2021-02-14T14:40:56.672998",
     "exception": false,
     "start_time": "2021-02-14T14:40:56.584602",
     "status": "completed"
    },
    "tags": []
   },
   "outputs": [],
   "source": [
    "from scipy.special import inv_boxcox\n",
    "preds = inv_boxcox(preds,_)"
   ]
  },
  {
   "cell_type": "code",
   "execution_count": 21,
   "metadata": {
    "execution": {
     "iopub.execute_input": "2021-02-14T14:40:56.750943Z",
     "iopub.status.busy": "2021-02-14T14:40:56.750255Z",
     "iopub.status.idle": "2021-02-14T14:40:59.035948Z",
     "shell.execute_reply": "2021-02-14T14:40:59.035389Z"
    },
    "papermill": {
     "duration": 2.326503,
     "end_time": "2021-02-14T14:40:59.036078",
     "exception": false,
     "start_time": "2021-02-14T14:40:56.709575",
     "status": "completed"
    },
    "tags": []
   },
   "outputs": [
    {
     "data": {
      "text/html": [
       "<div>\n",
       "<style scoped>\n",
       "    .dataframe tbody tr th:only-of-type {\n",
       "        vertical-align: middle;\n",
       "    }\n",
       "\n",
       "    .dataframe tbody tr th {\n",
       "        vertical-align: top;\n",
       "    }\n",
       "\n",
       "    .dataframe thead th {\n",
       "        text-align: right;\n",
       "    }\n",
       "</style>\n",
       "<table border=\"1\" class=\"dataframe\">\n",
       "  <thead>\n",
       "    <tr style=\"text-align: right;\">\n",
       "      <th></th>\n",
       "      <th>Id</th>\n",
       "      <th>trip_duration</th>\n",
       "    </tr>\n",
       "  </thead>\n",
       "  <tbody>\n",
       "    <tr>\n",
       "      <th>0</th>\n",
       "      <td>id3004672</td>\n",
       "      <td>930.965820</td>\n",
       "    </tr>\n",
       "    <tr>\n",
       "      <th>1</th>\n",
       "      <td>id3505355</td>\n",
       "      <td>483.621277</td>\n",
       "    </tr>\n",
       "    <tr>\n",
       "      <th>2</th>\n",
       "      <td>id1217141</td>\n",
       "      <td>499.025177</td>\n",
       "    </tr>\n",
       "    <tr>\n",
       "      <th>3</th>\n",
       "      <td>id2150126</td>\n",
       "      <td>956.119934</td>\n",
       "    </tr>\n",
       "    <tr>\n",
       "      <th>4</th>\n",
       "      <td>id1598245</td>\n",
       "      <td>284.216675</td>\n",
       "    </tr>\n",
       "  </tbody>\n",
       "</table>\n",
       "</div>"
      ],
      "text/plain": [
       "          Id  trip_duration\n",
       "0  id3004672     930.965820\n",
       "1  id3505355     483.621277\n",
       "2  id1217141     499.025177\n",
       "3  id2150126     956.119934\n",
       "4  id1598245     284.216675"
      ]
     },
     "execution_count": 21,
     "metadata": {},
     "output_type": "execute_result"
    }
   ],
   "source": [
    "output = pd.DataFrame({'Id':test.id,'trip_duration':preds})\n",
    "output.to_csv('submission.csv', index=False)\n",
    "output.head()"
   ]
  }
 ],
 "metadata": {
  "kernelspec": {
   "display_name": "Python 3",
   "language": "python",
   "name": "python3"
  },
  "language_info": {
   "codemirror_mode": {
    "name": "ipython",
    "version": 3
   },
   "file_extension": ".py",
   "mimetype": "text/x-python",
   "name": "python",
   "nbconvert_exporter": "python",
   "pygments_lexer": "ipython3",
   "version": "3.7.6"
  },
  "papermill": {
   "duration": 133.528152,
   "end_time": "2021-02-14T14:40:59.172852",
   "environment_variables": {},
   "exception": null,
   "input_path": "__notebook__.ipynb",
   "output_path": "__notebook__.ipynb",
   "parameters": {},
   "start_time": "2021-02-14T14:38:45.644700",
   "version": "2.1.0"
  }
 },
 "nbformat": 4,
 "nbformat_minor": 4
}
