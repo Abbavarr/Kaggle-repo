{
 "cells": [
  {
   "cell_type": "markdown",
   "metadata": {
    "papermill": {
     "duration": 0.008022,
     "end_time": "2021-02-13T14:42:44.425843",
     "exception": false,
     "start_time": "2021-02-13T14:42:44.417821",
     "status": "completed"
    },
    "tags": []
   },
   "source": [
    "# Setup"
   ]
  },
  {
   "cell_type": "code",
   "execution_count": 1,
   "metadata": {
    "execution": {
     "iopub.execute_input": "2021-02-13T14:42:44.444063Z",
     "iopub.status.busy": "2021-02-13T14:42:44.443330Z",
     "iopub.status.idle": "2021-02-13T14:42:46.173519Z",
     "shell.execute_reply": "2021-02-13T14:42:46.172690Z"
    },
    "papermill": {
     "duration": 1.740609,
     "end_time": "2021-02-13T14:42:46.173748",
     "exception": false,
     "start_time": "2021-02-13T14:42:44.433139",
     "status": "completed"
    },
    "tags": []
   },
   "outputs": [],
   "source": [
    "from sklearn.compose import ColumnTransformer\n",
    "from sklearn.pipeline import Pipeline\n",
    "from sklearn.impute import SimpleImputer\n",
    "from sklearn.preprocessing import OneHotEncoder\n",
    "from sklearn.metrics import mean_absolute_error\n",
    "from sklearn.model_selection import cross_val_score\n",
    "from xgboost import XGBRegressor\n",
    "\n",
    "import pandas as pd\n",
    "from sklearn.model_selection import train_test_split\n",
    "\n",
    "# Read the data\n",
    "X_full = pd.read_csv('../input/train.csv', index_col='Id')\n",
    "X_test_full = pd.read_csv('../input/test.csv', index_col='Id')\n",
    "\n",
    "# Remove rows with missing target, separate target from predictors\n",
    "X_full.dropna(axis=0, subset=['SalePrice'], inplace=True)\n",
    "y = X_full.SalePrice\n",
    "X_full.drop(['SalePrice'], axis=1, inplace=True)\n",
    "\n",
    "# Select categorical columns with relatively low cardinality (convenient but arbitrary)\n",
    "categorical_cols = [cname for cname in X_full.columns if\n",
    "                    X_full[cname].nunique() < 10 and \n",
    "                    X_full[cname].dtype == \"object\"]\n",
    "\n",
    "# Select numerical columns\n",
    "numerical_cols = [cname for cname in X_full.columns if \n",
    "                X_full[cname].dtype in ['int64', 'float64']]\n",
    "\n",
    "# Keep selected columns only\n",
    "my_cols = categorical_cols + numerical_cols\n",
    "X_train = X_full[my_cols].copy()\n",
    "X_test = X_test_full[my_cols].copy()"
   ]
  },
  {
   "cell_type": "markdown",
   "metadata": {
    "papermill": {
     "duration": 0.006987,
     "end_time": "2021-02-13T14:42:46.188336",
     "exception": false,
     "start_time": "2021-02-13T14:42:46.181349",
     "status": "completed"
    },
    "tags": []
   },
   "source": [
    "# Pipeline imputer,encoder and model"
   ]
  },
  {
   "cell_type": "code",
   "execution_count": 2,
   "metadata": {
    "execution": {
     "iopub.execute_input": "2021-02-13T14:42:46.209890Z",
     "iopub.status.busy": "2021-02-13T14:42:46.208874Z",
     "iopub.status.idle": "2021-02-13T14:42:46.211941Z",
     "shell.execute_reply": "2021-02-13T14:42:46.212422Z"
    },
    "papermill": {
     "duration": 0.017177,
     "end_time": "2021-02-13T14:42:46.212630",
     "exception": false,
     "start_time": "2021-02-13T14:42:46.195453",
     "status": "completed"
    },
    "tags": []
   },
   "outputs": [],
   "source": [
    "# Preprocessing for numerical data\n",
    "numerical_transformer = SimpleImputer(strategy='most_frequent')\n",
    "\n",
    "# Preprocessing for categorical data\n",
    "categorical_transformer = Pipeline(steps=[\n",
    "    ('imputer', SimpleImputer(strategy='constant')),\n",
    "    ('onehot', OneHotEncoder(handle_unknown='ignore'))\n",
    "])\n",
    "\n",
    "# Bundle preprocessing for numerical and categorical data\n",
    "preprocessor = ColumnTransformer(\n",
    "    transformers=[\n",
    "        ('num', numerical_transformer, numerical_cols),\n",
    "        ('cat', categorical_transformer, categorical_cols)\n",
    "    ])"
   ]
  },
  {
   "cell_type": "code",
   "execution_count": 3,
   "metadata": {
    "execution": {
     "iopub.execute_input": "2021-02-13T14:42:46.233096Z",
     "iopub.status.busy": "2021-02-13T14:42:46.232177Z",
     "iopub.status.idle": "2021-02-13T14:42:46.235897Z",
     "shell.execute_reply": "2021-02-13T14:42:46.235357Z"
    },
    "papermill": {
     "duration": 0.01603,
     "end_time": "2021-02-13T14:42:46.236046",
     "exception": false,
     "start_time": "2021-02-13T14:42:46.220016",
     "status": "completed"
    },
    "tags": []
   },
   "outputs": [],
   "source": [
    "model = XGBRegressor(n_estimators=900, max_depth = 3, min_child_weight =3, learning_rate=0.05, n_jobs=4)"
   ]
  },
  {
   "cell_type": "code",
   "execution_count": 4,
   "metadata": {
    "execution": {
     "iopub.execute_input": "2021-02-13T14:42:46.262815Z",
     "iopub.status.busy": "2021-02-13T14:42:46.261702Z",
     "iopub.status.idle": "2021-02-13T14:42:50.010747Z",
     "shell.execute_reply": "2021-02-13T14:42:50.011226Z"
    },
    "papermill": {
     "duration": 3.767861,
     "end_time": "2021-02-13T14:42:50.011410",
     "exception": false,
     "start_time": "2021-02-13T14:42:46.243549",
     "status": "completed"
    },
    "tags": []
   },
   "outputs": [
    {
     "data": {
      "text/plain": [
       "Pipeline(steps=[('preprocessor',\n",
       "                 ColumnTransformer(transformers=[('num',\n",
       "                                                  SimpleImputer(strategy='most_frequent'),\n",
       "                                                  ['MSSubClass', 'LotFrontage',\n",
       "                                                   'LotArea', 'OverallQual',\n",
       "                                                   'OverallCond', 'YearBuilt',\n",
       "                                                   'YearRemodAdd', 'MasVnrArea',\n",
       "                                                   'BsmtFinSF1', 'BsmtFinSF2',\n",
       "                                                   'BsmtUnfSF', 'TotalBsmtSF',\n",
       "                                                   '1stFlrSF', '2ndFlrSF',\n",
       "                                                   'LowQualFinSF', 'GrLivArea',\n",
       "                                                   'BsmtFullBath',\n",
       "                                                   'BsmtHalfBath', 'F...\n",
       "                              colsample_bytree=1, gamma=0, gpu_id=-1,\n",
       "                              importance_type='gain',\n",
       "                              interaction_constraints='', learning_rate=0.05,\n",
       "                              max_delta_step=0, max_depth=3, min_child_weight=3,\n",
       "                              missing=nan, monotone_constraints='()',\n",
       "                              n_estimators=900, n_jobs=4, num_parallel_tree=1,\n",
       "                              random_state=0, reg_alpha=0, reg_lambda=1,\n",
       "                              scale_pos_weight=1, subsample=1,\n",
       "                              tree_method='exact', validate_parameters=1,\n",
       "                              verbosity=None))])"
      ]
     },
     "execution_count": 4,
     "metadata": {},
     "output_type": "execute_result"
    }
   ],
   "source": [
    "# Bundle preprocessing and modeling code in a pipeline\n",
    "my_pipeline = Pipeline(steps=[('preprocessor', preprocessor),\n",
    "                              ('model', model)\n",
    "                             ])\n",
    "\n",
    "# Preprocessing of training data, fit model \n",
    "my_pipeline.fit(X_train,y)"
   ]
  },
  {
   "cell_type": "markdown",
   "metadata": {
    "papermill": {
     "duration": 0.008263,
     "end_time": "2021-02-13T14:42:50.028843",
     "exception": false,
     "start_time": "2021-02-13T14:42:50.020580",
     "status": "completed"
    },
    "tags": []
   },
   "source": [
    "# Generate test predictions"
   ]
  },
  {
   "cell_type": "code",
   "execution_count": 5,
   "metadata": {
    "execution": {
     "iopub.execute_input": "2021-02-13T14:42:50.055004Z",
     "iopub.status.busy": "2021-02-13T14:42:50.054196Z",
     "iopub.status.idle": "2021-02-13T14:42:50.110937Z",
     "shell.execute_reply": "2021-02-13T14:42:50.112002Z"
    },
    "papermill": {
     "duration": 0.075504,
     "end_time": "2021-02-13T14:42:50.112358",
     "exception": false,
     "start_time": "2021-02-13T14:42:50.036854",
     "status": "completed"
    },
    "tags": []
   },
   "outputs": [],
   "source": [
    "# Preprocessing of test data, fit model\n",
    "preds_test = my_pipeline.predict(X_test)"
   ]
  },
  {
   "cell_type": "markdown",
   "metadata": {
    "papermill": {
     "duration": 0.009042,
     "end_time": "2021-02-13T14:42:50.132312",
     "exception": false,
     "start_time": "2021-02-13T14:42:50.123270",
     "status": "completed"
    },
    "tags": []
   },
   "source": [
    "# Saving submission"
   ]
  },
  {
   "cell_type": "code",
   "execution_count": 6,
   "metadata": {
    "execution": {
     "iopub.execute_input": "2021-02-13T14:42:50.157132Z",
     "iopub.status.busy": "2021-02-13T14:42:50.156452Z",
     "iopub.status.idle": "2021-02-13T14:42:50.179114Z",
     "shell.execute_reply": "2021-02-13T14:42:50.178539Z"
    },
    "papermill": {
     "duration": 0.037768,
     "end_time": "2021-02-13T14:42:50.179262",
     "exception": false,
     "start_time": "2021-02-13T14:42:50.141494",
     "status": "completed"
    },
    "tags": []
   },
   "outputs": [
    {
     "data": {
      "text/html": [
       "<div>\n",
       "<style scoped>\n",
       "    .dataframe tbody tr th:only-of-type {\n",
       "        vertical-align: middle;\n",
       "    }\n",
       "\n",
       "    .dataframe tbody tr th {\n",
       "        vertical-align: top;\n",
       "    }\n",
       "\n",
       "    .dataframe thead th {\n",
       "        text-align: right;\n",
       "    }\n",
       "</style>\n",
       "<table border=\"1\" class=\"dataframe\">\n",
       "  <thead>\n",
       "    <tr style=\"text-align: right;\">\n",
       "      <th></th>\n",
       "      <th>Id</th>\n",
       "      <th>SalePrice</th>\n",
       "    </tr>\n",
       "  </thead>\n",
       "  <tbody>\n",
       "    <tr>\n",
       "      <th>0</th>\n",
       "      <td>1461</td>\n",
       "      <td>121532.640625</td>\n",
       "    </tr>\n",
       "    <tr>\n",
       "      <th>1</th>\n",
       "      <td>1462</td>\n",
       "      <td>167154.453125</td>\n",
       "    </tr>\n",
       "    <tr>\n",
       "      <th>2</th>\n",
       "      <td>1463</td>\n",
       "      <td>177543.687500</td>\n",
       "    </tr>\n",
       "    <tr>\n",
       "      <th>3</th>\n",
       "      <td>1464</td>\n",
       "      <td>192569.093750</td>\n",
       "    </tr>\n",
       "    <tr>\n",
       "      <th>4</th>\n",
       "      <td>1465</td>\n",
       "      <td>178846.421875</td>\n",
       "    </tr>\n",
       "  </tbody>\n",
       "</table>\n",
       "</div>"
      ],
      "text/plain": [
       "     Id      SalePrice\n",
       "0  1461  121532.640625\n",
       "1  1462  167154.453125\n",
       "2  1463  177543.687500\n",
       "3  1464  192569.093750\n",
       "4  1465  178846.421875"
      ]
     },
     "execution_count": 6,
     "metadata": {},
     "output_type": "execute_result"
    }
   ],
   "source": [
    "# Save test predictions to file\n",
    "output = pd.DataFrame({'Id': X_test.index,\n",
    "                       'SalePrice': preds_test})\n",
    "output.to_csv('submission.csv', index=False)\n",
    "output.head()"
   ]
  },
  {
   "cell_type": "code",
   "execution_count": null,
   "metadata": {
    "papermill": {
     "duration": 0.008148,
     "end_time": "2021-02-13T14:42:50.196607",
     "exception": false,
     "start_time": "2021-02-13T14:42:50.188459",
     "status": "completed"
    },
    "tags": []
   },
   "outputs": [],
   "source": []
  }
 ],
 "metadata": {
  "kernelspec": {
   "display_name": "Python 3",
   "language": "python",
   "name": "python3"
  },
  "language_info": {
   "codemirror_mode": {
    "name": "ipython",
    "version": 3
   },
   "file_extension": ".py",
   "mimetype": "text/x-python",
   "name": "python",
   "nbconvert_exporter": "python",
   "pygments_lexer": "ipython3",
   "version": "3.7.9"
  },
  "papermill": {
   "default_parameters": {},
   "duration": 12.315332,
   "end_time": "2021-02-13T14:42:50.815521",
   "environment_variables": {},
   "exception": null,
   "input_path": "__notebook__.ipynb",
   "output_path": "__notebook__.ipynb",
   "parameters": {},
   "start_time": "2021-02-13T14:42:38.500189",
   "version": "2.2.2"
  }
 },
 "nbformat": 4,
 "nbformat_minor": 4
}
